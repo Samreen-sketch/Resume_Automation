{
 "cells": [
  {
   "cell_type": "code",
   "execution_count": 5,
   "id": "6dc119a3",
   "metadata": {},
   "outputs": [],
   "source": [
    "import pandas as pd\n",
    "import numpy as num\n",
    "import matplotlib.pyplot as plt\n",
    "import seaborn as sns\n",
    "from sklearn.model_selection import train_test_split\n",
    "from sklearn.metrics import accuracy_score, classification_report, confusion_matrix\n",
    "from sklearn.feature_extraction.text import TfidfVectorizer\n",
    "from sklearn.ensemble import RandomForestClassifier"
   ]
  },
  {
   "cell_type": "code",
   "execution_count": 6,
   "id": "2e1a5ef6",
   "metadata": {},
   "outputs": [
    {
     "data": {
      "application/vnd.microsoft.datawrangler.viewer.v0+json": {
       "columns": [
        {
         "name": "index",
         "rawType": "int64",
         "type": "integer"
        },
        {
         "name": "Resume_ID",
         "rawType": "int64",
         "type": "integer"
        },
        {
         "name": "Name",
         "rawType": "object",
         "type": "string"
        },
        {
         "name": "Skills",
         "rawType": "object",
         "type": "string"
        },
        {
         "name": "Experience (Years)",
         "rawType": "int64",
         "type": "integer"
        },
        {
         "name": "Education",
         "rawType": "object",
         "type": "string"
        },
        {
         "name": "Job Role",
         "rawType": "object",
         "type": "string"
        },
        {
         "name": "Recruiter Decision",
         "rawType": "object",
         "type": "string"
        },
        {
         "name": "Salary Expectation ($)",
         "rawType": "int64",
         "type": "integer"
        },
        {
         "name": "Projects Count",
         "rawType": "int64",
         "type": "integer"
        },
        {
         "name": "AI Score (0-100)",
         "rawType": "int64",
         "type": "integer"
        }
       ],
       "ref": "0f647efa-f32f-42bb-9a22-283cf8435401",
       "rows": [
        [
         "0",
         "1",
         "Ashley Ali",
         "TensorFlow, NLP, Pytorch",
         "10",
         "B.Sc",
         "AI Researcher",
         "Hire",
         "104895",
         "8",
         "100"
        ],
        [
         "1",
         "2",
         "Wesley Roman",
         "Deep Learning, Machine Learning, Python, SQL",
         "10",
         "MBA",
         "Data Scientist",
         "Hire",
         "113002",
         "1",
         "100"
        ],
        [
         "2",
         "3",
         "Corey Sanchez",
         "Ethical Hacking, Cybersecurity, Linux",
         "1",
         "MBA",
         "Cybersecurity Analyst",
         "Hire",
         "71766",
         "7",
         "70"
        ],
        [
         "3",
         "4",
         "Elizabeth Carney",
         "Python, Pytorch, TensorFlow",
         "7",
         "B.Tech",
         "AI Researcher",
         "Hire",
         "46848",
         "0",
         "95"
        ],
        [
         "4",
         "5",
         "Julie Hill",
         "SQL, React, Java",
         "4",
         "PhD",
         "Software Engineer",
         "Hire",
         "87441",
         "9",
         "100"
        ],
        [
         "5",
         "6",
         "Samantha Santos",
         "Cybersecurity, Networking, Linux, Ethical Hacking",
         "10",
         "B.Tech",
         "Cybersecurity Analyst",
         "Hire",
         "47957",
         "5",
         "100"
        ],
        [
         "6",
         "7",
         "Tony Smith",
         "Networking, Cybersecurity, Ethical Hacking",
         "4",
         "M.Tech",
         "Cybersecurity Analyst",
         "Hire",
         "66208",
         "9",
         "100"
        ],
        [
         "7",
         "8",
         "Anthony Harrison",
         "TensorFlow, Pytorch, NLP",
         "3",
         "M.Tech",
         "AI Researcher",
         "Hire",
         "103006",
         "7",
         "90"
        ],
        [
         "8",
         "9",
         "Nancy Jenkins",
         "Networking, Ethical Hacking",
         "7",
         "MBA",
         "Cybersecurity Analyst",
         "Hire",
         "92270",
         "3",
         "100"
        ],
        [
         "9",
         "10",
         "Courtney Gibson",
         "Python, TensorFlow, Pytorch, NLP",
         "0",
         "M.Tech",
         "AI Researcher",
         "Reject",
         "60579",
         "1",
         "35"
        ],
        [
         "10",
         "11",
         "Laura French",
         "SQL, Java, C++",
         "1",
         "PhD",
         "Software Engineer",
         "Hire",
         "88945",
         "7",
         "70"
        ],
        [
         "11",
         "12",
         "Ralph Barrera",
         "Cybersecurity, Ethical Hacking, Networking",
         "0",
         "MBA",
         "Cybersecurity Analyst",
         "Reject",
         "62708",
         "5",
         "50"
        ],
        [
         "12",
         "13",
         "David Diaz",
         "Cybersecurity, Networking",
         "0",
         "M.Tech",
         "Cybersecurity Analyst",
         "Hire",
         "42077",
         "9",
         "65"
        ],
        [
         "13",
         "14",
         "Caitlin Myers",
         "SQL, C++, Java",
         "4",
         "B.Sc",
         "Software Engineer",
         "Hire",
         "50410",
         "10",
         "100"
        ],
        [
         "14",
         "15",
         "Tammy Pineda",
         "Pytorch, NLP",
         "0",
         "M.Tech",
         "AI Researcher",
         "Reject",
         "96555",
         "5",
         "45"
        ],
        [
         "15",
         "16",
         "Courtney Cook",
         "Cybersecurity, Networking",
         "1",
         "PhD",
         "Cybersecurity Analyst",
         "Reject",
         "51388",
         "6",
         "60"
        ],
        [
         "16",
         "17",
         "Megan Brown",
         "SQL, Python",
         "10",
         "PhD",
         "Data Scientist",
         "Hire",
         "115364",
         "2",
         "100"
        ],
        [
         "17",
         "18",
         "Frances Davis MD",
         "Linux, Networking, Cybersecurity, Ethical Hacking",
         "3",
         "B.Tech",
         "Cybersecurity Analyst",
         "Hire",
         "66379",
         "6",
         "80"
        ],
        [
         "18",
         "19",
         "Jonathon Pineda",
         "SQL, Python, Deep Learning",
         "3",
         "MBA",
         "Data Scientist",
         "Hire",
         "112439",
         "10",
         "95"
        ],
        [
         "19",
         "20",
         "Jennifer Collins",
         "Machine Learning, SQL, Python",
         "10",
         "B.Tech",
         "Data Scientist",
         "Hire",
         "53167",
         "9",
         "100"
        ],
        [
         "20",
         "21",
         "Nichole Welch",
         "SQL, Java, C++, React",
         "5",
         "B.Sc",
         "Software Engineer",
         "Hire",
         "57546",
         "4",
         "90"
        ],
        [
         "21",
         "22",
         "Amber Davis",
         "Python, TensorFlow, Pytorch, NLP",
         "6",
         "B.Sc",
         "AI Researcher",
         "Hire",
         "106352",
         "10",
         "100"
        ],
        [
         "22",
         "23",
         "William Clark",
         "Machine Learning, Deep Learning, SQL",
         "4",
         "MBA",
         "Data Scientist",
         "Hire",
         "107045",
         "8",
         "100"
        ],
        [
         "23",
         "24",
         "Taylor Williams",
         "TensorFlow, Pytorch, NLP, Python",
         "8",
         "MBA",
         "AI Researcher",
         "Hire",
         "94384",
         "0",
         "100"
        ],
        [
         "24",
         "25",
         "Lori Johnson",
         "Pytorch, TensorFlow, NLP, Python",
         "0",
         "B.Tech",
         "AI Researcher",
         "Hire",
         "91064",
         "10",
         "80"
        ],
        [
         "25",
         "26",
         "Roy Huang",
         "Python, NLP",
         "7",
         "B.Tech",
         "AI Researcher",
         "Hire",
         "68447",
         "10",
         "100"
        ],
        [
         "26",
         "27",
         "Christopher Ayers",
         "Ethical Hacking, Cybersecurity",
         "3",
         "B.Sc",
         "Cybersecurity Analyst",
         "Reject",
         "76203",
         "2",
         "60"
        ],
        [
         "27",
         "28",
         "Shaun Gomez",
         "Pytorch, NLP",
         "1",
         "M.Tech",
         "AI Researcher",
         "Reject",
         "41731",
         "5",
         "45"
        ],
        [
         "28",
         "29",
         "Claudia Harris",
         "NLP, Pytorch, Python",
         "10",
         "B.Tech",
         "AI Researcher",
         "Hire",
         "119307",
         "2",
         "100"
        ],
        [
         "29",
         "30",
         "Steven Thomas",
         "SQL, Python",
         "10",
         "B.Tech",
         "Data Scientist",
         "Hire",
         "59926",
         "4",
         "100"
        ],
        [
         "30",
         "31",
         "Abigail Watts",
         "Python, SQL",
         "4",
         "PhD",
         "Data Scientist",
         "Hire",
         "84679",
         "10",
         "100"
        ],
        [
         "31",
         "32",
         "Logan Mcclure",
         "Ethical Hacking, Networking, Linux",
         "1",
         "B.Sc",
         "Cybersecurity Analyst",
         "Hire",
         "58606",
         "10",
         "75"
        ],
        [
         "32",
         "33",
         "Elizabeth Serrano",
         "Deep Learning, Machine Learning, SQL, Python",
         "8",
         "M.Tech",
         "Data Scientist",
         "Hire",
         "51283",
         "4",
         "100"
        ],
        [
         "33",
         "34",
         "Maria Glover",
         "TensorFlow, Python, Pytorch",
         "9",
         "B.Sc",
         "AI Researcher",
         "Hire",
         "99521",
         "4",
         "100"
        ],
        [
         "34",
         "35",
         "Sandra Juarez",
         "Networking, Linux, Ethical Hacking",
         "0",
         "M.Tech",
         "Cybersecurity Analyst",
         "Hire",
         "47001",
         "10",
         "75"
        ],
        [
         "35",
         "36",
         "Bradley Cruz",
         "NLP, Pytorch",
         "7",
         "PhD",
         "AI Researcher",
         "Hire",
         "92104",
         "6",
         "100"
        ],
        [
         "36",
         "37",
         "Darrell Wilkinson",
         "Python, NLP",
         "7",
         "M.Tech",
         "AI Researcher",
         "Hire",
         "80936",
         "3",
         "100"
        ],
        [
         "37",
         "38",
         "Jason Flores",
         "C++, SQL, Java",
         "5",
         "B.Tech",
         "Software Engineer",
         "Hire",
         "97505",
         "7",
         "100"
        ],
        [
         "38",
         "39",
         "Denise Harper",
         "Linux, Cybersecurity",
         "7",
         "PhD",
         "Cybersecurity Analyst",
         "Hire",
         "106469",
         "0",
         "80"
        ],
        [
         "39",
         "40",
         "Kim Blake",
         "SQL, Python",
         "1",
         "MBA",
         "Data Scientist",
         "Hire",
         "52364",
         "8",
         "70"
        ],
        [
         "40",
         "41",
         "Lindsey Jackson",
         "C++, React",
         "10",
         "MBA",
         "Software Engineer",
         "Hire",
         "101108",
         "9",
         "100"
        ],
        [
         "41",
         "42",
         "Frances Salazar",
         "Networking, Linux",
         "1",
         "M.Tech",
         "Cybersecurity Analyst",
         "Hire",
         "51200",
         "10",
         "80"
        ],
        [
         "42",
         "43",
         "Justin Ross",
         "NLP, TensorFlow, Python",
         "3",
         "M.Tech",
         "AI Researcher",
         "Hire",
         "66403",
         "10",
         "95"
        ],
        [
         "43",
         "44",
         "Denise Ramirez",
         "Machine Learning, Python",
         "1",
         "MBA",
         "Data Scientist",
         "Hire",
         "50397",
         "8",
         "70"
        ],
        [
         "44",
         "45",
         "Tanya West",
         "SQL, Python, Machine Learning",
         "4",
         "M.Tech",
         "Data Scientist",
         "Hire",
         "95486",
         "6",
         "95"
        ],
        [
         "45",
         "46",
         "Ryan Peters",
         "SQL, Java",
         "5",
         "B.Sc",
         "Software Engineer",
         "Hire",
         "72756",
         "4",
         "90"
        ],
        [
         "46",
         "47",
         "Terry Burns",
         "SQL, Java, C++, React",
         "4",
         "MBA",
         "Software Engineer",
         "Hire",
         "50602",
         "9",
         "100"
        ],
        [
         "47",
         "48",
         "Christopher Stevenson",
         "Python, Machine Learning",
         "8",
         "PhD",
         "Data Scientist",
         "Hire",
         "103477",
         "9",
         "100"
        ],
        [
         "48",
         "49",
         "David Nash",
         "React, SQL, Java",
         "1",
         "MBA",
         "Software Engineer",
         "Hire",
         "46437",
         "9",
         "80"
        ],
        [
         "49",
         "50",
         "Christopher Nicholson",
         "Pytorch, Python",
         "5",
         "B.Tech",
         "AI Researcher",
         "Hire",
         "89338",
         "1",
         "75"
        ]
       ],
       "shape": {
        "columns": 10,
        "rows": 1000
       }
      },
      "text/html": [
       "<div>\n",
       "<style scoped>\n",
       "    .dataframe tbody tr th:only-of-type {\n",
       "        vertical-align: middle;\n",
       "    }\n",
       "\n",
       "    .dataframe tbody tr th {\n",
       "        vertical-align: top;\n",
       "    }\n",
       "\n",
       "    .dataframe thead th {\n",
       "        text-align: right;\n",
       "    }\n",
       "</style>\n",
       "<table border=\"1\" class=\"dataframe\">\n",
       "  <thead>\n",
       "    <tr style=\"text-align: right;\">\n",
       "      <th></th>\n",
       "      <th>Resume_ID</th>\n",
       "      <th>Name</th>\n",
       "      <th>Skills</th>\n",
       "      <th>Experience (Years)</th>\n",
       "      <th>Education</th>\n",
       "      <th>Job Role</th>\n",
       "      <th>Recruiter Decision</th>\n",
       "      <th>Salary Expectation ($)</th>\n",
       "      <th>Projects Count</th>\n",
       "      <th>AI Score (0-100)</th>\n",
       "    </tr>\n",
       "  </thead>\n",
       "  <tbody>\n",
       "    <tr>\n",
       "      <th>0</th>\n",
       "      <td>1</td>\n",
       "      <td>Ashley Ali</td>\n",
       "      <td>TensorFlow, NLP, Pytorch</td>\n",
       "      <td>10</td>\n",
       "      <td>B.Sc</td>\n",
       "      <td>AI Researcher</td>\n",
       "      <td>Hire</td>\n",
       "      <td>104895</td>\n",
       "      <td>8</td>\n",
       "      <td>100</td>\n",
       "    </tr>\n",
       "    <tr>\n",
       "      <th>1</th>\n",
       "      <td>2</td>\n",
       "      <td>Wesley Roman</td>\n",
       "      <td>Deep Learning, Machine Learning, Python, SQL</td>\n",
       "      <td>10</td>\n",
       "      <td>MBA</td>\n",
       "      <td>Data Scientist</td>\n",
       "      <td>Hire</td>\n",
       "      <td>113002</td>\n",
       "      <td>1</td>\n",
       "      <td>100</td>\n",
       "    </tr>\n",
       "    <tr>\n",
       "      <th>2</th>\n",
       "      <td>3</td>\n",
       "      <td>Corey Sanchez</td>\n",
       "      <td>Ethical Hacking, Cybersecurity, Linux</td>\n",
       "      <td>1</td>\n",
       "      <td>MBA</td>\n",
       "      <td>Cybersecurity Analyst</td>\n",
       "      <td>Hire</td>\n",
       "      <td>71766</td>\n",
       "      <td>7</td>\n",
       "      <td>70</td>\n",
       "    </tr>\n",
       "    <tr>\n",
       "      <th>3</th>\n",
       "      <td>4</td>\n",
       "      <td>Elizabeth Carney</td>\n",
       "      <td>Python, Pytorch, TensorFlow</td>\n",
       "      <td>7</td>\n",
       "      <td>B.Tech</td>\n",
       "      <td>AI Researcher</td>\n",
       "      <td>Hire</td>\n",
       "      <td>46848</td>\n",
       "      <td>0</td>\n",
       "      <td>95</td>\n",
       "    </tr>\n",
       "    <tr>\n",
       "      <th>4</th>\n",
       "      <td>5</td>\n",
       "      <td>Julie Hill</td>\n",
       "      <td>SQL, React, Java</td>\n",
       "      <td>4</td>\n",
       "      <td>PhD</td>\n",
       "      <td>Software Engineer</td>\n",
       "      <td>Hire</td>\n",
       "      <td>87441</td>\n",
       "      <td>9</td>\n",
       "      <td>100</td>\n",
       "    </tr>\n",
       "    <tr>\n",
       "      <th>...</th>\n",
       "      <td>...</td>\n",
       "      <td>...</td>\n",
       "      <td>...</td>\n",
       "      <td>...</td>\n",
       "      <td>...</td>\n",
       "      <td>...</td>\n",
       "      <td>...</td>\n",
       "      <td>...</td>\n",
       "      <td>...</td>\n",
       "      <td>...</td>\n",
       "    </tr>\n",
       "    <tr>\n",
       "      <th>995</th>\n",
       "      <td>996</td>\n",
       "      <td>Brenda Williams</td>\n",
       "      <td>Cybersecurity, Linux, Ethical Hacking</td>\n",
       "      <td>0</td>\n",
       "      <td>B.Sc</td>\n",
       "      <td>Cybersecurity Analyst</td>\n",
       "      <td>Reject</td>\n",
       "      <td>114364</td>\n",
       "      <td>9</td>\n",
       "      <td>60</td>\n",
       "    </tr>\n",
       "    <tr>\n",
       "      <th>996</th>\n",
       "      <td>997</td>\n",
       "      <td>Colleen Hicks</td>\n",
       "      <td>Deep Learning, Machine Learning</td>\n",
       "      <td>0</td>\n",
       "      <td>MBA</td>\n",
       "      <td>Data Scientist</td>\n",
       "      <td>Reject</td>\n",
       "      <td>103294</td>\n",
       "      <td>5</td>\n",
       "      <td>45</td>\n",
       "    </tr>\n",
       "    <tr>\n",
       "      <th>997</th>\n",
       "      <td>998</td>\n",
       "      <td>Michelle Molina</td>\n",
       "      <td>TensorFlow, NLP</td>\n",
       "      <td>0</td>\n",
       "      <td>B.Tech</td>\n",
       "      <td>AI Researcher</td>\n",
       "      <td>Hire</td>\n",
       "      <td>113855</td>\n",
       "      <td>9</td>\n",
       "      <td>65</td>\n",
       "    </tr>\n",
       "    <tr>\n",
       "      <th>998</th>\n",
       "      <td>999</td>\n",
       "      <td>Danielle Horn</td>\n",
       "      <td>Linux, Networking, Cybersecurity, Ethical Hacking</td>\n",
       "      <td>8</td>\n",
       "      <td>PhD</td>\n",
       "      <td>Cybersecurity Analyst</td>\n",
       "      <td>Hire</td>\n",
       "      <td>83146</td>\n",
       "      <td>10</td>\n",
       "      <td>100</td>\n",
       "    </tr>\n",
       "    <tr>\n",
       "      <th>999</th>\n",
       "      <td>1000</td>\n",
       "      <td>Chad Collins</td>\n",
       "      <td>SQL, Machine Learning, Python, Deep Learning</td>\n",
       "      <td>7</td>\n",
       "      <td>M.Tech</td>\n",
       "      <td>Data Scientist</td>\n",
       "      <td>Hire</td>\n",
       "      <td>119474</td>\n",
       "      <td>3</td>\n",
       "      <td>100</td>\n",
       "    </tr>\n",
       "  </tbody>\n",
       "</table>\n",
       "<p>1000 rows × 10 columns</p>\n",
       "</div>"
      ],
      "text/plain": [
       "     Resume_ID              Name  \\\n",
       "0            1        Ashley Ali   \n",
       "1            2      Wesley Roman   \n",
       "2            3     Corey Sanchez   \n",
       "3            4  Elizabeth Carney   \n",
       "4            5        Julie Hill   \n",
       "..         ...               ...   \n",
       "995        996   Brenda Williams   \n",
       "996        997     Colleen Hicks   \n",
       "997        998   Michelle Molina   \n",
       "998        999     Danielle Horn   \n",
       "999       1000      Chad Collins   \n",
       "\n",
       "                                                Skills  Experience (Years)  \\\n",
       "0                             TensorFlow, NLP, Pytorch                  10   \n",
       "1         Deep Learning, Machine Learning, Python, SQL                  10   \n",
       "2                Ethical Hacking, Cybersecurity, Linux                   1   \n",
       "3                          Python, Pytorch, TensorFlow                   7   \n",
       "4                                     SQL, React, Java                   4   \n",
       "..                                                 ...                 ...   \n",
       "995              Cybersecurity, Linux, Ethical Hacking                   0   \n",
       "996                    Deep Learning, Machine Learning                   0   \n",
       "997                                    TensorFlow, NLP                   0   \n",
       "998  Linux, Networking, Cybersecurity, Ethical Hacking                   8   \n",
       "999       SQL, Machine Learning, Python, Deep Learning                   7   \n",
       "\n",
       "    Education               Job Role Recruiter Decision  \\\n",
       "0        B.Sc          AI Researcher               Hire   \n",
       "1         MBA         Data Scientist               Hire   \n",
       "2         MBA  Cybersecurity Analyst               Hire   \n",
       "3      B.Tech          AI Researcher               Hire   \n",
       "4         PhD      Software Engineer               Hire   \n",
       "..        ...                    ...                ...   \n",
       "995      B.Sc  Cybersecurity Analyst             Reject   \n",
       "996       MBA         Data Scientist             Reject   \n",
       "997    B.Tech          AI Researcher               Hire   \n",
       "998       PhD  Cybersecurity Analyst               Hire   \n",
       "999    M.Tech         Data Scientist               Hire   \n",
       "\n",
       "     Salary Expectation ($)  Projects Count  AI Score (0-100)  \n",
       "0                    104895               8               100  \n",
       "1                    113002               1               100  \n",
       "2                     71766               7                70  \n",
       "3                     46848               0                95  \n",
       "4                     87441               9               100  \n",
       "..                      ...             ...               ...  \n",
       "995                  114364               9                60  \n",
       "996                  103294               5                45  \n",
       "997                  113855               9                65  \n",
       "998                   83146              10               100  \n",
       "999                  119474               3               100  \n",
       "\n",
       "[1000 rows x 10 columns]"
      ]
     },
     "execution_count": 6,
     "metadata": {},
     "output_type": "execute_result"
    }
   ],
   "source": [
    "resume=pd.read_csv('resume_screening.csv')\n",
    "resume"
   ]
  },
  {
   "cell_type": "code",
   "execution_count": 7,
   "id": "1881f34d",
   "metadata": {},
   "outputs": [
    {
     "data": {
      "application/vnd.microsoft.datawrangler.viewer.v0+json": {
       "columns": [
        {
         "name": "index",
         "rawType": "int64",
         "type": "integer"
        },
        {
         "name": "Name",
         "rawType": "object",
         "type": "string"
        },
        {
         "name": "Skills",
         "rawType": "object",
         "type": "string"
        },
        {
         "name": "Job Role",
         "rawType": "object",
         "type": "string"
        }
       ],
       "ref": "cad9b861-2ab6-4686-86f3-9536cf2d2a19",
       "rows": [
        [
         "0",
         "Ashley Ali",
         "TensorFlow  NLP  Pytorch",
         "AI Researcher"
        ],
        [
         "1",
         "Wesley Roman",
         "Deep Learning  Machine Learning  Python  SQL",
         "Data Scientist"
        ],
        [
         "2",
         "Corey Sanchez",
         "Ethical Hacking  Cybersecurity  Linux",
         "Cybersecurity Analyst"
        ],
        [
         "3",
         "Elizabeth Carney",
         "Python  Pytorch  TensorFlow",
         "AI Researcher"
        ],
        [
         "4",
         "Julie Hill",
         "SQL  React  Java",
         "Software Engineer"
        ],
        [
         "5",
         "Samantha Santos",
         "Cybersecurity  Networking  Linux  Ethical Hacking",
         "Cybersecurity Analyst"
        ],
        [
         "6",
         "Tony Smith",
         "Networking  Cybersecurity  Ethical Hacking",
         "Cybersecurity Analyst"
        ],
        [
         "7",
         "Anthony Harrison",
         "TensorFlow  Pytorch  NLP",
         "AI Researcher"
        ],
        [
         "8",
         "Nancy Jenkins",
         "Networking  Ethical Hacking",
         "Cybersecurity Analyst"
        ],
        [
         "9",
         "Courtney Gibson",
         "Python  TensorFlow  Pytorch  NLP",
         "AI Researcher"
        ],
        [
         "10",
         "Laura French",
         "SQL  Java  C++",
         "Software Engineer"
        ],
        [
         "11",
         "Ralph Barrera",
         "Cybersecurity  Ethical Hacking  Networking",
         "Cybersecurity Analyst"
        ],
        [
         "12",
         "David Diaz",
         "Cybersecurity  Networking",
         "Cybersecurity Analyst"
        ],
        [
         "13",
         "Caitlin Myers",
         "SQL  C++  Java",
         "Software Engineer"
        ],
        [
         "14",
         "Tammy Pineda",
         "Pytorch  NLP",
         "AI Researcher"
        ],
        [
         "15",
         "Courtney Cook",
         "Cybersecurity  Networking",
         "Cybersecurity Analyst"
        ],
        [
         "16",
         "Megan Brown",
         "SQL  Python",
         "Data Scientist"
        ],
        [
         "17",
         "Frances Davis MD",
         "Linux  Networking  Cybersecurity  Ethical Hacking",
         "Cybersecurity Analyst"
        ],
        [
         "18",
         "Jonathon Pineda",
         "SQL  Python  Deep Learning",
         "Data Scientist"
        ],
        [
         "19",
         "Jennifer Collins",
         "Machine Learning  SQL  Python",
         "Data Scientist"
        ],
        [
         "20",
         "Nichole Welch",
         "SQL  Java  C++  React",
         "Software Engineer"
        ],
        [
         "21",
         "Amber Davis",
         "Python  TensorFlow  Pytorch  NLP",
         "AI Researcher"
        ],
        [
         "22",
         "William Clark",
         "Machine Learning  Deep Learning  SQL",
         "Data Scientist"
        ],
        [
         "23",
         "Taylor Williams",
         "TensorFlow  Pytorch  NLP  Python",
         "AI Researcher"
        ],
        [
         "24",
         "Lori Johnson",
         "Pytorch  TensorFlow  NLP  Python",
         "AI Researcher"
        ],
        [
         "25",
         "Roy Huang",
         "Python  NLP",
         "AI Researcher"
        ],
        [
         "26",
         "Christopher Ayers",
         "Ethical Hacking  Cybersecurity",
         "Cybersecurity Analyst"
        ],
        [
         "27",
         "Shaun Gomez",
         "Pytorch  NLP",
         "AI Researcher"
        ],
        [
         "28",
         "Claudia Harris",
         "NLP  Pytorch  Python",
         "AI Researcher"
        ],
        [
         "29",
         "Steven Thomas",
         "SQL  Python",
         "Data Scientist"
        ],
        [
         "30",
         "Abigail Watts",
         "Python  SQL",
         "Data Scientist"
        ],
        [
         "31",
         "Logan Mcclure",
         "Ethical Hacking  Networking  Linux",
         "Cybersecurity Analyst"
        ],
        [
         "32",
         "Elizabeth Serrano",
         "Deep Learning  Machine Learning  SQL  Python",
         "Data Scientist"
        ],
        [
         "33",
         "Maria Glover",
         "TensorFlow  Python  Pytorch",
         "AI Researcher"
        ],
        [
         "34",
         "Sandra Juarez",
         "Networking  Linux  Ethical Hacking",
         "Cybersecurity Analyst"
        ],
        [
         "35",
         "Bradley Cruz",
         "NLP  Pytorch",
         "AI Researcher"
        ],
        [
         "36",
         "Darrell Wilkinson",
         "Python  NLP",
         "AI Researcher"
        ],
        [
         "37",
         "Jason Flores",
         "C++  SQL  Java",
         "Software Engineer"
        ],
        [
         "38",
         "Denise Harper",
         "Linux  Cybersecurity",
         "Cybersecurity Analyst"
        ],
        [
         "39",
         "Kim Blake",
         "SQL  Python",
         "Data Scientist"
        ],
        [
         "40",
         "Lindsey Jackson",
         "C++  React",
         "Software Engineer"
        ],
        [
         "41",
         "Frances Salazar",
         "Networking  Linux",
         "Cybersecurity Analyst"
        ],
        [
         "42",
         "Justin Ross",
         "NLP  TensorFlow  Python",
         "AI Researcher"
        ],
        [
         "43",
         "Denise Ramirez",
         "Machine Learning  Python",
         "Data Scientist"
        ],
        [
         "44",
         "Tanya West",
         "SQL  Python  Machine Learning",
         "Data Scientist"
        ],
        [
         "45",
         "Ryan Peters",
         "SQL  Java",
         "Software Engineer"
        ],
        [
         "46",
         "Terry Burns",
         "SQL  Java  C++  React",
         "Software Engineer"
        ],
        [
         "47",
         "Christopher Stevenson",
         "Python  Machine Learning",
         "Data Scientist"
        ],
        [
         "48",
         "David Nash",
         "React  SQL  Java",
         "Software Engineer"
        ],
        [
         "49",
         "Christopher Nicholson",
         "Pytorch  Python",
         "AI Researcher"
        ]
       ],
       "shape": {
        "columns": 3,
        "rows": 1000
       }
      },
      "text/html": [
       "<div>\n",
       "<style scoped>\n",
       "    .dataframe tbody tr th:only-of-type {\n",
       "        vertical-align: middle;\n",
       "    }\n",
       "\n",
       "    .dataframe tbody tr th {\n",
       "        vertical-align: top;\n",
       "    }\n",
       "\n",
       "    .dataframe thead th {\n",
       "        text-align: right;\n",
       "    }\n",
       "</style>\n",
       "<table border=\"1\" class=\"dataframe\">\n",
       "  <thead>\n",
       "    <tr style=\"text-align: right;\">\n",
       "      <th></th>\n",
       "      <th>Name</th>\n",
       "      <th>Skills</th>\n",
       "      <th>Job Role</th>\n",
       "    </tr>\n",
       "  </thead>\n",
       "  <tbody>\n",
       "    <tr>\n",
       "      <th>0</th>\n",
       "      <td>Ashley Ali</td>\n",
       "      <td>TensorFlow  NLP  Pytorch</td>\n",
       "      <td>AI Researcher</td>\n",
       "    </tr>\n",
       "    <tr>\n",
       "      <th>1</th>\n",
       "      <td>Wesley Roman</td>\n",
       "      <td>Deep Learning  Machine Learning  Python  SQL</td>\n",
       "      <td>Data Scientist</td>\n",
       "    </tr>\n",
       "    <tr>\n",
       "      <th>2</th>\n",
       "      <td>Corey Sanchez</td>\n",
       "      <td>Ethical Hacking  Cybersecurity  Linux</td>\n",
       "      <td>Cybersecurity Analyst</td>\n",
       "    </tr>\n",
       "    <tr>\n",
       "      <th>3</th>\n",
       "      <td>Elizabeth Carney</td>\n",
       "      <td>Python  Pytorch  TensorFlow</td>\n",
       "      <td>AI Researcher</td>\n",
       "    </tr>\n",
       "    <tr>\n",
       "      <th>4</th>\n",
       "      <td>Julie Hill</td>\n",
       "      <td>SQL  React  Java</td>\n",
       "      <td>Software Engineer</td>\n",
       "    </tr>\n",
       "    <tr>\n",
       "      <th>...</th>\n",
       "      <td>...</td>\n",
       "      <td>...</td>\n",
       "      <td>...</td>\n",
       "    </tr>\n",
       "    <tr>\n",
       "      <th>995</th>\n",
       "      <td>Brenda Williams</td>\n",
       "      <td>Cybersecurity  Linux  Ethical Hacking</td>\n",
       "      <td>Cybersecurity Analyst</td>\n",
       "    </tr>\n",
       "    <tr>\n",
       "      <th>996</th>\n",
       "      <td>Colleen Hicks</td>\n",
       "      <td>Deep Learning  Machine Learning</td>\n",
       "      <td>Data Scientist</td>\n",
       "    </tr>\n",
       "    <tr>\n",
       "      <th>997</th>\n",
       "      <td>Michelle Molina</td>\n",
       "      <td>TensorFlow  NLP</td>\n",
       "      <td>AI Researcher</td>\n",
       "    </tr>\n",
       "    <tr>\n",
       "      <th>998</th>\n",
       "      <td>Danielle Horn</td>\n",
       "      <td>Linux  Networking  Cybersecurity  Ethical Hacking</td>\n",
       "      <td>Cybersecurity Analyst</td>\n",
       "    </tr>\n",
       "    <tr>\n",
       "      <th>999</th>\n",
       "      <td>Chad Collins</td>\n",
       "      <td>SQL  Machine Learning  Python  Deep Learning</td>\n",
       "      <td>Data Scientist</td>\n",
       "    </tr>\n",
       "  </tbody>\n",
       "</table>\n",
       "<p>1000 rows × 3 columns</p>\n",
       "</div>"
      ],
      "text/plain": [
       "                 Name                                             Skills  \\\n",
       "0          Ashley Ali                           TensorFlow  NLP  Pytorch   \n",
       "1        Wesley Roman       Deep Learning  Machine Learning  Python  SQL   \n",
       "2       Corey Sanchez              Ethical Hacking  Cybersecurity  Linux   \n",
       "3    Elizabeth Carney                        Python  Pytorch  TensorFlow   \n",
       "4          Julie Hill                                   SQL  React  Java   \n",
       "..                ...                                                ...   \n",
       "995   Brenda Williams              Cybersecurity  Linux  Ethical Hacking   \n",
       "996     Colleen Hicks                    Deep Learning  Machine Learning   \n",
       "997   Michelle Molina                                    TensorFlow  NLP   \n",
       "998     Danielle Horn  Linux  Networking  Cybersecurity  Ethical Hacking   \n",
       "999      Chad Collins       SQL  Machine Learning  Python  Deep Learning   \n",
       "\n",
       "                  Job Role  \n",
       "0            AI Researcher  \n",
       "1           Data Scientist  \n",
       "2    Cybersecurity Analyst  \n",
       "3            AI Researcher  \n",
       "4        Software Engineer  \n",
       "..                     ...  \n",
       "995  Cybersecurity Analyst  \n",
       "996         Data Scientist  \n",
       "997          AI Researcher  \n",
       "998  Cybersecurity Analyst  \n",
       "999         Data Scientist  \n",
       "\n",
       "[1000 rows x 3 columns]"
      ]
     },
     "execution_count": 7,
     "metadata": {},
     "output_type": "execute_result"
    }
   ],
   "source": [
    "resume=pd.read_csv('resume_clean.csv')\n",
    "resume"
   ]
  },
  {
   "cell_type": "code",
   "execution_count": 9,
   "id": "b6f3b629",
   "metadata": {},
   "outputs": [],
   "source": [
    "\n",
    "\n",
    "# Remove commas from every row in the 'skills' column\n",
    "resume['Skills'] = resume['Skills'].str.replace(\",\", \" \", regex=True)\n",
    "\n"
   ]
  },
  {
   "cell_type": "code",
   "execution_count": 10,
   "id": "1df30aaa",
   "metadata": {},
   "outputs": [],
   "source": [
    "# Save cleaned dataset\n",
    "resume.to_csv(\"resume_clean.csv\", index=False)"
   ]
  },
  {
   "cell_type": "code",
   "execution_count": 11,
   "id": "3a544327",
   "metadata": {},
   "outputs": [
    {
     "name": "stdout",
     "output_type": "stream",
     "text": [
      "               Name                                        Skills  \\\n",
      "0        Ashley Ali                      TensorFlow  NLP  Pytorch   \n",
      "1      Wesley Roman  Deep Learning  Machine Learning  Python  SQL   \n",
      "2     Corey Sanchez         Ethical Hacking  Cybersecurity  Linux   \n",
      "3  Elizabeth Carney                   Python  Pytorch  TensorFlow   \n",
      "4        Julie Hill                              SQL  React  Java   \n",
      "\n",
      "                Job Role  \n",
      "0          AI Researcher  \n",
      "1         Data Scientist  \n",
      "2  Cybersecurity Analyst  \n",
      "3          AI Researcher  \n",
      "4      Software Engineer  \n"
     ]
    }
   ],
   "source": [
    "print(resume.head())"
   ]
  },
  {
   "cell_type": "code",
   "execution_count": 12,
   "id": "8cc7a972",
   "metadata": {},
   "outputs": [
    {
     "name": "stdout",
     "output_type": "stream",
     "text": [
      "Job Role\n",
      "AI Researcher            257\n",
      "Data Scientist           255\n",
      "Cybersecurity Analyst    255\n",
      "Software Engineer        233\n",
      "Name: count, dtype: int64\n"
     ]
    }
   ],
   "source": [
    "print(resume['Job Role'].value_counts())\n"
   ]
  },
  {
   "cell_type": "code",
   "execution_count": 13,
   "id": "7e561bf6",
   "metadata": {},
   "outputs": [
    {
     "data": {
      "image/png": "[encoded data removed]",
      "text/plain": [
       "<Figure size 640x480 with 1 Axes>"
      ]
     },
     "metadata": {},
     "output_type": "display_data"
    }
   ],
   "source": [
    "Job_Role = {\n",
    "    \"AI Researcher\": 257,\n",
    "    \"Data Scientist\": 255,\n",
    "    \"Cybersecurity Analyst\": 255,\n",
    "    \"Software Engineer\": 233\n",
    "}\n",
    "# Plot pie chart\n",
    "plt.pie(Job_Role.values(), labels=Job_Role.keys(), autopct='%1.1f%%', startangle=90)\n",
    "plt.title(\"Pie Chart Example\")\n",
    "plt.show()"
   ]
  },
  {
   "cell_type": "code",
   "execution_count": 14,
   "id": "6279abf5",
   "metadata": {},
   "outputs": [
    {
     "data": {
      "application/vnd.microsoft.datawrangler.viewer.v0+json": {
       "columns": [
        {
         "name": "index",
         "rawType": "object",
         "type": "string"
        },
        {
         "name": "0",
         "rawType": "int64",
         "type": "integer"
        }
       ],
       "ref": "f6a275d9-a0b1-49a5-b1b0-b75c5be6398a",
       "rows": [
        [
         "Name",
         "0"
        ],
        [
         "Skills",
         "0"
        ],
        [
         "Job Role",
         "0"
        ]
       ],
       "shape": {
        "columns": 1,
        "rows": 3
       }
      },
      "text/plain": [
       "Name        0\n",
       "Skills      0\n",
       "Job Role    0\n",
       "dtype: int64"
      ]
     },
     "execution_count": 14,
     "metadata": {},
     "output_type": "execute_result"
    }
   ],
   "source": [
    "resume.isnull().sum()"
   ]
  },
  {
   "cell_type": "code",
   "execution_count": 15,
   "id": "ac34ee5a",
   "metadata": {},
   "outputs": [],
   "source": [
    "X=resume['Skills']\n",
    "y=resume['Job Role']\n",
    "X_train, X_test, y_train, y_test = train_test_split(X, y, test_size=0.2, random_state=42)"
   ]
  },
  {
   "cell_type": "code",
   "execution_count": 16,
   "id": "b8e8d5c8",
   "metadata": {},
   "outputs": [
    {
     "data": {
      "application/vnd.microsoft.datawrangler.viewer.v0+json": {
       "columns": [
        {
         "name": "index",
         "rawType": "int64",
         "type": "integer"
        },
        {
         "name": "Skills",
         "rawType": "object",
         "type": "string"
        }
       ],
       "ref": "4dc6b4bd-a8c8-461a-a09b-1bead7b3c71a",
       "rows": [
        [
         "29",
         "SQL  Python"
        ],
        [
         "535",
         "React  SQL"
        ],
        [
         "695",
         "Cybersecurity  Linux  Ethical Hacking  Networking"
        ],
        [
         "557",
         "Machine Learning  Deep Learning  Python"
        ],
        [
         "836",
         "Deep Learning  Python"
        ],
        [
         "596",
         "Python  Machine Learning"
        ],
        [
         "165",
         "Deep Learning  SQL"
        ],
        [
         "918",
         "Deep Learning  Python"
        ],
        [
         "495",
         "Machine Learning  Deep Learning  Python"
        ],
        [
         "824",
         "Java  C++  React  SQL"
        ],
        [
         "65",
         "Java  React  C++"
        ],
        [
         "141",
         "Cybersecurity  Ethical Hacking  Linux"
        ],
        [
         "925",
         "C++  React  SQL  Java"
        ],
        [
         "827",
         "React  SQL"
        ],
        [
         "655",
         "C++  SQL  React  Java"
        ],
        [
         "331",
         "Python  Deep Learning  SQL  Machine Learning"
        ],
        [
         "664",
         "Python  NLP  Pytorch  TensorFlow"
        ],
        [
         "249",
         "React  Java"
        ],
        [
         "907",
         "Python  Deep Learning  Machine Learning"
        ],
        [
         "708",
         "NLP  TensorFlow"
        ],
        [
         "305",
         "React  SQL  C++"
        ],
        [
         "734",
         "Networking  Ethical Hacking"
        ],
        [
         "975",
         "Cybersecurity  Linux  Ethical Hacking  Networking"
        ],
        [
         "49",
         "Pytorch  Python"
        ],
        [
         "896",
         "React  SQL  Java  C++"
        ],
        [
         "2",
         "Ethical Hacking  Cybersecurity  Linux"
        ],
        [
         "544",
         "Machine Learning  Deep Learning"
        ],
        [
         "350",
         "Networking  Ethical Hacking"
        ],
        [
         "904",
         "Deep Learning  Machine Learning"
        ],
        [
         "536",
         "Java  React  C++  SQL"
        ],
        [
         "344",
         "Deep Learning  Machine Learning  SQL  Python"
        ],
        [
         "994",
         "React  Java"
        ],
        [
         "481",
         "Linux  Cybersecurity  Ethical Hacking  Networking"
        ],
        [
         "575",
         "Python  Machine Learning"
        ],
        [
         "33",
         "TensorFlow  Python  Pytorch"
        ],
        [
         "31",
         "Ethical Hacking  Networking  Linux"
        ],
        [
         "231",
         "React  C++  Java  SQL"
        ],
        [
         "963",
         "TensorFlow  NLP"
        ],
        [
         "192",
         "TensorFlow  NLP  Python"
        ],
        [
         "333",
         "Linux  Cybersecurity  Networking"
        ],
        [
         "3",
         "Python  Pytorch  TensorFlow"
        ],
        [
         "204",
         "Java  C++"
        ],
        [
         "514",
         "Java  React  SQL  C++"
        ],
        [
         "799",
         "Machine Learning  SQL  Python  Deep Learning"
        ],
        [
         "306",
         "Machine Learning  SQL  Python"
        ],
        [
         "109",
         "Ethical Hacking  Linux  Networking  Cybersecurity"
        ],
        [
         "430",
         "Pytorch  NLP"
        ],
        [
         "77",
         "Cybersecurity  Ethical Hacking  Linux  Networking"
        ],
        [
         "84",
         "Java  SQL  C++"
        ],
        [
         "286",
         "C++  React  SQL  Java"
        ]
       ],
       "shape": {
        "columns": 1,
        "rows": 800
       }
      },
      "text/plain": [
       "29                                           SQL  Python\n",
       "535                                           React  SQL\n",
       "695    Cybersecurity  Linux  Ethical Hacking  Networking\n",
       "557              Machine Learning  Deep Learning  Python\n",
       "836                                Deep Learning  Python\n",
       "                             ...                        \n",
       "106                              NLP  Python  TensorFlow\n",
       "270                        Machine Learning  SQL  Python\n",
       "860                                      Pytorch  Python\n",
       "435                           Python  Deep Learning  SQL\n",
       "102                          Ethical Hacking  Networking\n",
       "Name: Skills, Length: 800, dtype: object"
      ]
     },
     "execution_count": 16,
     "metadata": {},
     "output_type": "execute_result"
    }
   ],
   "source": [
    "X_train"
   ]
  },
  {
   "cell_type": "code",
   "execution_count": 17,
   "id": "5100c8d7",
   "metadata": {},
   "outputs": [],
   "source": [
    "vectorizer = TfidfVectorizer(stop_words='english', max_features=5000)\n",
    "X_train_tfidf = vectorizer.fit_transform(X_train)\n",
    "X_test_tfidf = vectorizer.transform(X_test)"
   ]
  },
  {
   "cell_type": "code",
   "execution_count": 18,
   "id": "e3f5e7fe",
   "metadata": {},
   "outputs": [],
   "source": [
    "tfidf_vectorizer = TfidfVectorizer(max_features=5000)\n",
    "X = tfidf_vectorizer.fit_transform(resume['Skills'])"
   ]
  },
  {
   "cell_type": "code",
   "execution_count": 19,
   "id": "9e548d40",
   "metadata": {},
   "outputs": [
    {
     "name": "stdout",
     "output_type": "stream",
     "text": [
      "(1000, 15)\n"
     ]
    }
   ],
   "source": [
    "print(X.shape)\n"
   ]
  },
  {
   "cell_type": "code",
   "execution_count": 20,
   "id": "53f11025",
   "metadata": {},
   "outputs": [],
   "source": [
    "# Target column\n",
    "y = resume[\"Job Role\"]\n",
    "\n",
    "# Train-test split\n",
    "X_train, X_test, y_train, y_test = train_test_split(X, y, test_size=0.2, random_state=42)\n",
    "\n",
    "# Random Forest\n",
    "rf = RandomForestClassifier()\n",
    "rf.fit(X_train, y_train)\n",
    "y_pred = rf.predict(X_test)"
   ]
  },
  {
   "cell_type": "code",
   "execution_count": 21,
   "id": "c44606ed",
   "metadata": {},
   "outputs": [
    {
     "name": "stdout",
     "output_type": "stream",
     "text": [
      "Accuracy: 1.0\n"
     ]
    }
   ],
   "source": [
    "print(\"Accuracy:\", accuracy_score(y_test, y_pred))"
   ]
  },
  {
   "cell_type": "code",
   "execution_count": 22,
   "id": "3a9700b1",
   "metadata": {},
   "outputs": [
    {
     "name": "stdout",
     "output_type": "stream",
     "text": [
      "\n",
      "Confusion Matrix:\n",
      " [[52  0  0  0]\n",
      " [ 0 51  0  0]\n",
      " [ 0  0 45  0]\n",
      " [ 0  0  0 52]]\n"
     ]
    }
   ],
   "source": [
    "print(\"\\nConfusion Matrix:\\n\", confusion_matrix(y_test, y_pred))"
   ]
  },
  {
   "cell_type": "code",
   "execution_count": 23,
   "id": "c5a8a63e",
   "metadata": {},
   "outputs": [
    {
     "name": "stdout",
     "output_type": "stream",
     "text": [
      "\n",
      "Classification Report:\n",
      "                        precision    recall  f1-score   support\n",
      "\n",
      "        AI Researcher       1.00      1.00      1.00        52\n",
      "Cybersecurity Analyst       1.00      1.00      1.00        51\n",
      "       Data Scientist       1.00      1.00      1.00        45\n",
      "    Software Engineer       1.00      1.00      1.00        52\n",
      "\n",
      "             accuracy                           1.00       200\n",
      "            macro avg       1.00      1.00      1.00       200\n",
      "         weighted avg       1.00      1.00      1.00       200\n",
      "\n"
     ]
    }
   ],
   "source": [
    "print(\"\\nClassification Report:\\n\", classification_report(y_test, y_pred))"
   ]
  },
  {
   "cell_type": "code",
   "execution_count": 24,
   "id": "6cf75342",
   "metadata": {},
   "outputs": [
    {
     "data": {
      "image/png": "[encoded data removed]",
      "text/plain": [
       "<Figure size 600x500 with 2 Axes>"
      ]
     },
     "metadata": {},
     "output_type": "display_data"
    }
   ],
   "source": [
    "# Suppose you already have y_test (true labels) and y_pred (predicted labels)\n",
    "cm = confusion_matrix(y_test, y_pred, labels=rf.classes_)\n",
    "\n",
    "plt.figure(figsize=(6,5))\n",
    "sns.heatmap(cm, annot=True, fmt=\"d\", cmap=\"Blues\",\n",
    "            xticklabels=rf.classes_,\n",
    "            yticklabels=rf.classes_)\n",
    "\n",
    "plt.xlabel(\"Predicted\")\n",
    "plt.ylabel(\"Actual\")\n",
    "plt.title(\"Confusion Matrix\")\n",
    "plt.show()"
   ]
  },
  {
   "cell_type": "code",
   "execution_count": 25,
   "id": "7b776c29",
   "metadata": {},
   "outputs": [],
   "source": [
    "# clean resume\n",
    "import re\n",
    "\n",
    "def clean_resume(text):\n",
    "    # Remove URLs\n",
    "    text = re.sub(r'http\\S+|www\\S+|https\\S+', '', text, flags=re.MULTILINE)\n",
    "    \n",
    "    # Remove emails\n",
    "    text = re.sub(r'\\S+@\\S+', '', text)\n",
    "    \n",
    "    # Remove phone numbers (common patterns)\n",
    "    text = re.sub(r'\\+?\\d[\\d -]{8,12}\\d', '', text)\n",
    "    \n",
    "    # Remove special characters and punctuation\n",
    "    text = re.sub(r'[^a-zA-Z\\s]', '', text)\n",
    "    \n",
    "    # Remove multiple spaces\n",
    "    text = re.sub(r'\\s+', ' ', text).strip()\n",
    "    \n",
    "    return text\n",
    "\n",
    "   \n",
    "\n"
   ]
  },
  {
   "cell_type": "markdown",
   "id": "156a04d6",
   "metadata": {},
   "source": [
    "Predict Category"
   ]
  },
  {
   "cell_type": "code",
   "execution_count": 26,
   "id": "38813a3b",
   "metadata": {},
   "outputs": [
    {
     "name": "stdout",
     "output_type": "stream",
     "text": [
      "Predicted Category: Data Scientist\n"
     ]
    }
   ],
   "source": [
    "\n",
    "# Example resume\n",
    "resume_text = \"Deep Learning  Machine Learning  Python  SQL\"\n",
    "\n",
    "# Define a prediction function\n",
    "def predict_category(text):\n",
    "    # Convert text into TF-IDF features\n",
    "    resume_tfidf = tfidf_vectorizer.transform([text])\n",
    "    \n",
    "    # Predict with trained Random Forest model\n",
    "    return rf.predict(resume_tfidf)[0]\n",
    "\n",
    "# Use the function\n",
    "predicted_category = predict_category(resume_text)\n",
    "\n",
    "print(\"Predicted Category:\", predicted_category)\n"
   ]
  },
  {
   "cell_type": "markdown",
   "id": "29ad3622",
   "metadata": {},
   "source": [
    "Perdictive Category"
   ]
  },
  {
   "cell_type": "code",
   "execution_count": 27,
   "id": "5ec16c43",
   "metadata": {},
   "outputs": [
    {
     "name": "stdout",
     "output_type": "stream",
     "text": [
      "Predicted Category: AI Researcher\n"
     ]
    }
   ],
   "source": [
    "# Example resume\n",
    "resume_text = \"TensorFlow  Pytorch  NLP  Python\"\n",
    "\n",
    "# Define a prediction function\n",
    "def predict_category(text):\n",
    "    # Convert text into TF-IDF features\n",
    "    resume_tfidf = tfidf_vectorizer.transform([text])\n",
    "    \n",
    "    # Predict with trained Random Forest model\n",
    "    return rf.predict(resume_tfidf)[0]\n",
    "\n",
    "# Use the function\n",
    "predicted_category = predict_category(resume_text)\n",
    "\n",
    "print(\"Predicted Category:\", predicted_category)"
   ]
  },
  {
   "cell_type": "markdown",
   "id": "c834cf53",
   "metadata": {},
   "source": [
    "Save File"
   ]
  },
  {
   "cell_type": "code",
   "execution_count": 28,
   "id": "451a0029",
   "metadata": {},
   "outputs": [
    {
     "data": {
      "text/plain": [
       "['tfidf_vectorizer.joblib']"
      ]
     },
     "execution_count": 28,
     "metadata": {},
     "output_type": "execute_result"
    }
   ],
   "source": [
    "import joblib\n",
    "\n",
    "# Save model\n",
    "joblib.dump(rf, \"rf_model.joblib\")\n",
    "\n",
    "# Save TF-IDF vectorizer\n",
    "joblib.dump(tfidf_vectorizer, \"tfidf_vectorizer.joblib\")"
   ]
  }
 ],
 "metadata": {
  "kernelspec": {
   "display_name": "Python 3",
   "language": "python",
   "name": "python3"
  },
  "language_info": {
   "codemirror_mode": {
    "name": "ipython",
    "version": 3
   },
   "file_extension": ".py",
   "mimetype": "text/x-python",
   "name": "python",
   "nbconvert_exporter": "python",
   "pygments_lexer": "ipython3",
   "version": "3.13.2"
  }
 },
 "nbformat": 4,
 "nbformat_minor": 5
}
